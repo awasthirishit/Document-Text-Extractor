{
 "cells": [
  {
   "cell_type": "code",
   "execution_count": null,
   "id": "c4633c36",
   "metadata": {},
   "outputs": [
    {
     "name": "stdout",
     "output_type": "stream",
     "text": [
      "Requirement already satisfied: PyPDF2 in c:\\users\\lenovo\\anaconda3\\lib\\site-packages (1.26.0)\n"
     ]
    }
   ],
   "source": [
    "!pip install PyPDF2\n",
    "import PyPDF2\n",
    "file = input(\"Enter file Path\")\n",
    "pdfFile = open(file,'rb')\n",
    "pdfReader = PyPDF2.PdfFileReader(pdfFile)\n",
    "print(pdfReader.numPages)\n",
    "pdfObj = pdfReader.getPage(0)\n",
    "print(pdfObj.extractText())\n",
    "pdfFile.close()"
   ]
  },
  {
   "cell_type": "code",
   "execution_count": null,
   "id": "a3e5d87a",
   "metadata": {},
   "outputs": [],
   "source": []
  }
 ],
 "metadata": {
  "kernelspec": {
   "display_name": "Python 3",
   "language": "python",
   "name": "python3"
  },
  "language_info": {
   "codemirror_mode": {
    "name": "ipython",
    "version": 3
   },
   "file_extension": ".py",
   "mimetype": "text/x-python",
   "name": "python",
   "nbconvert_exporter": "python",
   "pygments_lexer": "ipython3",
   "version": "3.8.8"
  }
 },
 "nbformat": 4,
 "nbformat_minor": 5
}
